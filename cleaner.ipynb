{
 "cells": [
  {
   "cell_type": "code",
   "execution_count": 1,
   "metadata": {},
   "outputs": [],
   "source": [
    "import pandas as pd\n",
    "import os"
   ]
  },
  {
   "cell_type": "code",
   "execution_count": 3,
   "metadata": {},
   "outputs": [
    {
     "data": {
      "text/plain": [
       "['Untethered Referrals - Bodyworkers.csv',\n",
       " 'Untethered Referrals - BODYWORK_.csv',\n",
       " 'Untethered Referrals - General Wellness_Naturopathic.csv',\n",
       " 'Untethered Referrals - Lactation Consultants.csv',\n",
       " 'Untethered Referrals - LACTATION.csv',\n",
       " 'Untethered Referrals - MYO.csv',\n",
       " 'Untethered Referrals - Myofunctional Therapists.csv',\n",
       " 'Untethered Referrals - OTHER.csv',\n",
       " 'Untethered Referrals - SPEECH.csv',\n",
       " 'Untethered Referrals - Speech_Occupational_Feeding Therapy.csv']"
      ]
     },
     "execution_count": 3,
     "metadata": {},
     "output_type": "execute_result"
    }
   ],
   "source": [
    "csvs = [x for x in os.listdir() if x.startswith('Untethered')] # list of all accordions\n",
    "csvs"
   ]
  },
  {
   "cell_type": "code",
   "execution_count": 35,
   "metadata": {},
   "outputs": [],
   "source": [
    "for e in csvs:\n",
    "    df = pd.read_csv(e, names=['name', 'office','number', 'url'])\n",
    "    df['name'] = df['name'].str.split(',').str[0] # keep only first name\n",
    "    df['office'] = df['office'].str.split(',').str[0] # keep only first office title\n",
    "    df.to_csv(e, index=False)"
   ]
  },
  {
   "cell_type": "code",
   "execution_count": null,
   "metadata": {},
   "outputs": [],
   "source": []
  }
 ],
 "metadata": {
  "kernelspec": {
   "display_name": "Python 3",
   "language": "python",
   "name": "python3"
  },
  "language_info": {
   "codemirror_mode": {
    "name": "ipython",
    "version": 3
   },
   "file_extension": ".py",
   "mimetype": "text/x-python",
   "name": "python",
   "nbconvert_exporter": "python",
   "pygments_lexer": "ipython3",
   "version": "3.12.0"
  }
 },
 "nbformat": 4,
 "nbformat_minor": 2
}
